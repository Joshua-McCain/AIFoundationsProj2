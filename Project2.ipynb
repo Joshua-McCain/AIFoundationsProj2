{
 "cells": [
  {
   "cell_type": "markdown",
   "metadata": {},
   "source": [
    "# Function/Class Definitions & Setup"
   ]
  },
  {
   "cell_type": "markdown",
   "metadata": {},
   "source": [
    "## Constants"
   ]
  },
  {
   "cell_type": "code",
   "execution_count": null,
   "metadata": {},
   "outputs": [],
   "source": [
    "DATA_DIR = './data/raw' # Where all the raw stories are\n",
    "TRAIN_FILE = './data/train.jsonl'\n",
    "TEST_FILE = './data/test.jsonl'\n",
    "CORPUS_FILE = 'corpus.txt' # Where all the raw data will be stored\n",
    "\n",
    "TOKENIZER_PREFIX = 'bpe_tokenizer' # Tokenizer name\n",
    "TOKENIZER_PATH = TOKENIZER_PREFIX + \".model\"\n",
    "PAD_TOKEN_ID = 3\n",
    "\n",
    "VOCAB_SIZE = 10000 # Based on project handout, limit of vocab tokens allowed\n",
    "MAX_TRAIN_SEQ_LEN = 128\n",
    "MAX_GEN_SEQ_LEN = 50\n",
    "\n",
    "\n",
    "\n",
    "#MODIFIABLE CONSTANTS FOR MODEL TRAINING START HERE\n",
    "DEVICE = \"cuda\"\n",
    "\n",
    "BATCH_SIZE = 128\n",
    "EPOCHS = 30\n",
    "LEARNING_RATE = .002\n",
    "# Dictates creativity of the model, < 1 more deterministic, > 1 more creative/stochastic, 1 is no change from base model.\n",
    "TEMPERATURE = 1.1\n",
    "EARLY_EPOCH_STOP = 4\n",
    "\n",
    "EMBED_DIM = 128\n",
    "HIDDEN_DIM = 256\n",
    "NUM_LAYERS = 3\n",
    "DROPOUT = .2\n",
    "# Nucleus sampling, 0 picks from most likely token only, >= 1 picks from all tokens. .75-.9 is a good range\n",
    "TOP_P = .8\n",
    "\n",
    "N_HEADS = 8 # For the transformer model only"
   ]
  },
  {
   "cell_type": "markdown",
   "metadata": {},
   "source": [
    "## Main Helper"
   ]
  },
  {
   "cell_type": "code",
   "execution_count": 3,
   "metadata": {},
   "outputs": [],
   "source": [
    "from Proj2Helper import *\n",
    "import torch\n",
    "import torch.nn as nn\n",
    "from tqdm import tqdm\n",
    "import sentencepiece as spm\n",
    "import matplotlib.pyplot as plt\n",
    "from torch.utils.data import DataLoader\n",
    "import math\n",
    "from nltk.translate.bleu_score import corpus_bleu, SmoothingFunction\n",
    " \n",
    "# Load the pre-trained tokenizer from the .model tokenizer file\n",
    "def load_tokenizer(tokenizer_path):\n",
    "    tokenizer = spm.SentencePieceProcessor()\n",
    "    tokenizer.load(tokenizer_path)\n",
    "    return tokenizer\n",
    "\n",
    "\n",
    "def collate_fn(batch):\n",
    "    \"\"\" \n",
    "    This function takes in all of the batches from the dataset, which will be jagged arrays, and\n",
    "    inserts padding tokens <pad> such that all of the sequences are the same length. Note that the\n",
    "    Cross Entropy Loss criterion should specify to ignore the index 3 so it does not affect the training.\n",
    "\n",
    "    :param batch: The batch of prompts that form a jagged array to be padded.\n",
    "    :return: The input and label batches properly padded.\n",
    "    \"\"\"\n",
    "\n",
    "    input_batch, target_batch = zip(*batch)\n",
    "    input_batch = nn.utils.rnn.pad_sequence(input_batch, batch_first=True, padding_value=PAD_TOKEN_ID)\n",
    "    target_batch = nn.utils.rnn.pad_sequence(target_batch, batch_first=True, padding_value=PAD_TOKEN_ID)\n",
    "    return input_batch, target_batch\n",
    "\n",
    "def train_model(model, device, tokenizer, model_type=\"\"):\n",
    "    \"\"\" \n",
    "    The main training code generalized for all of the models,\n",
    "    including evaluation metrics such as loss graphs, BLEU score, and Perplexity score.\n",
    "\n",
    "    :param model: The instantiated model needing training.\n",
    "    :param device: The device the model should be trained on, preferrably cuda.\n",
    "    :param tokenizer: The loaded tokenizer trained on the dataset being used for model training.\n",
    "    :return: The progression of training and testing losses.\n",
    "    \"\"\"\n",
    "    torch.cuda.empty_cache()\n",
    "    # Loading tokenizer file and getting most up to date vocab size\n",
    "    vocab_size = tokenizer.get_piece_size()\n",
    "\n",
    "    # Set up datasets from the given jsonl files for training\n",
    "    train_data = TextDataset(TRAIN_FILE, tokenizer, MAX_TRAIN_SEQ_LEN)\n",
    "    test_data = TextDataset(TEST_FILE, tokenizer, MAX_TRAIN_SEQ_LEN)\n",
    "\n",
    "    # Using pytorch DataLoaders for easy batching, shuffling, etc.\n",
    "    train_loader = DataLoader(train_data, batch_size=BATCH_SIZE, shuffle=True, collate_fn=collate_fn)\n",
    "    test_loader = DataLoader(test_data, batch_size=BATCH_SIZE, shuffle=False, collate_fn=collate_fn)\n",
    "\n",
    "    optimizer = torch.optim.AdamW(model.parameters(), lr=LEARNING_RATE)\n",
    "\n",
    "    # Adding on a decaying learning rate to the optimizer\n",
    "    scheduler = torch.optim.lr_scheduler.ReduceLROnPlateau(optimizer, 'min', patience=1, factor=0.5)\n",
    "    criterion = nn.CrossEntropyLoss(ignore_index=PAD_TOKEN_ID)\n",
    "\n",
    "    best_test_loss = float('inf')\n",
    "    no_improve_epochs = 0\n",
    "\n",
    "    train_losses, test_losses = [], []\n",
    "    for epoch in range(EPOCHS):\n",
    "        #Emptying cache and unused data on every epoch since CUDA would run out of memory otherwise\n",
    "        torch.cuda.empty_cache()\n",
    "        torch.cuda.ipc_collect()\n",
    "\n",
    "        #Want the model in training mode\n",
    "        model.train()\n",
    "        total_train_loss = 0\n",
    "\n",
    "        for input_ids, target_ids in tqdm(train_loader, desc=f\"Epoch {epoch+1}/{EPOCHS}\"):\n",
    "            input_ids = input_ids.to(device)\n",
    "            target_ids = target_ids.to(device)\n",
    "\n",
    "            optimizer.zero_grad()\n",
    "\n",
    "            # Getting the probability distributions for the prompts...\n",
    "            logits, _ = model(input_ids)\n",
    "\n",
    "            \"\"\"\n",
    "            For understanding this dimension change, understand that the logits are of\n",
    "            dimension (B,S,V) (see forward() function of base model for explanantion) and the targets are of\n",
    "            dimension (B,S) (where each entry is the correct token to predict for that position in the sequence).\n",
    "\n",
    "            For Cross Entropy Loss, we must have 1 prediction for each row in both tensors. Therefore, if we can reduce\n",
    "            each tensor such that it reads the last dimension for each row, the function will work. Aka we would have\n",
    "            dimension (B x S, V) (every row is a token's probability distribution) and\n",
    "            dimension (B x S) (every entry is that token's correct value, in chronological order with the logits)\n",
    "\n",
    "            The .view() function allows us to do this my making the last dimension of each tensor account for each entry.\n",
    "            \"\"\"\n",
    "            loss = criterion(logits.view(-1, vocab_size), target_ids.view(-1))\n",
    "\n",
    "            # Adjusting weights...\n",
    "            loss.backward()\n",
    "            optimizer.step()\n",
    "\n",
    "            total_train_loss += loss.item()\n",
    "        \n",
    "        avg_train_loss = total_train_loss / len(train_loader)\n",
    "        train_losses.append(avg_train_loss)\n",
    "\n",
    "        # Don't want the model to train on testing data, so .eval()\n",
    "        model.eval()\n",
    "        total_test_loss = 0\n",
    "\n",
    "        # Evaluate testing loss after training on this epoch to see performance on new data\n",
    "        with torch.no_grad():\n",
    "            for input_ids, target_ids in test_loader:\n",
    "                input_ids = input_ids.to(device)\n",
    "                target_ids = target_ids.to(device)\n",
    "\n",
    "                logits, _ = model(input_ids)\n",
    "\n",
    "                loss = criterion(logits.view(-1, vocab_size), target_ids.view(-1))\n",
    "                total_test_loss += loss.item()\n",
    "            \n",
    "            avg_test_loss = total_test_loss / len(test_loader)\n",
    "            test_losses.append(avg_test_loss)\n",
    "            scheduler.step(avg_test_loss)\n",
    "\n",
    "            # If our testing data starts getting worse over time, we can stop it early to reduce losses in accuracy based on a preset constant\n",
    "            if(avg_test_loss < best_test_loss):\n",
    "                best_test_loss = avg_test_loss\n",
    "                no_improve_epochs = 0\n",
    "            else:\n",
    "                no_improve_epochs += 1\n",
    "                \n",
    "        if(no_improve_epochs >= EARLY_EPOCH_STOP):\n",
    "            break\n",
    "\n",
    "    print(f\"Epoch {epoch+1}: Train Loss={avg_train_loss:.4f}, Test Loss={avg_test_loss:.4f}\")\n",
    "    print(f\"Model Perplexity: {Perplexity(avg_train_loss):.4f} Model BLEU: {BLEU(model, tokenizer, test_loader):.4f}\")\n",
    "    plotLossOverEpochs(EPOCHS, train_losses, test_losses, model_type)\n",
    "\n",
    "    return train_losses, test_losses\n",
    "\n",
    "def plotLossOverEpochs(epochs, train_loss, test_loss, model_type=\"\"):\n",
    "        \"\"\"\n",
    "        Creates a plot showing the losses over time for a model.\n",
    "\n",
    "        :param epochs: The number of epochs the training took place over\n",
    "        :param train_loss: The losses of training over the epochs\n",
    "        :param test_loss: The losses of testing over the epochs\n",
    "        :param name: The name of the trained model being evaluated\n",
    "        \"\"\"\n",
    "        plt.xlabel(\"Epochs\")\n",
    "        plt.ylabel(\"Loss\")\n",
    "        plt.title(model_type + \" Loss per Epoch\")\n",
    "\n",
    "        x_range = range(1, epochs + 1)\n",
    "\n",
    "        plt.plot(x_range, train_loss)\n",
    "        plt.plot(x_range, test_loss)\n",
    "\n",
    "        plt.plot(x_range, train_loss, label=\"Training Loss\", color='blue')\n",
    "        plt.plot(x_range, test_loss, label=\"Testing Loss\", color='orange')\n",
    "\n",
    "        plt.legend()\n",
    "        plt.show()\n",
    "\n",
    "#Because the loss is already cross entropy, we can just do the natural exponentiation of the loss\n",
    "#Loss here is the average loss across tokens\n",
    "def Perplexity(loss):\n",
    "    return math.exp(loss)\n",
    "\n",
    "def BLEU(model, tokenizer, test_loader):\n",
    "    \"\"\"\n",
    "        Evaluates BLEU score of the entire model by getting probabilities.\n",
    "\n",
    "        :param epochs: The number of epochs the training took place over\n",
    "        :param train_loss: The losses of training over the epochs\n",
    "        :param test_loss: The losses of testing over the epochs\n",
    "        :param name: The name of the trained model being evaluated\n",
    "        :return: The overall BLEU scoring of the prompts and completions ran on\n",
    "    \"\"\"\n",
    "\n",
    "    model.eval()\n",
    "    references = []\n",
    "    candidates = []\n",
    "    samples_processed = 0\n",
    "    smoothing_function = SmoothingFunction().method1\n",
    "\n",
    "    with torch.no_grad():\n",
    "        \n",
    "        # We really just want the raw prompts and completions to get rid of unnecessary padding\n",
    "        for input_ids, target_ids in test_loader:\n",
    "\n",
    "            input_ids = input_ids.to(DEVICE)\n",
    "            # The model does teacher forcing predictions, which is exactly what we need to compare with the labels\n",
    "            logits, _ = model(input_ids)\n",
    "            # Taking the best token from each probability distribution for comparison against the labels\n",
    "            predicted_ids = torch.argmax(logits, dim=-1).cpu().tolist()\n",
    "            target_ids = target_ids.cpu().tolist()\n",
    "\n",
    "            for predicted, target in zip(predicted_ids, target_ids):\n",
    "\n",
    "                # Process 250 samples so it doesnt run forever\n",
    "                if samples_processed > 250:\n",
    "                    break\n",
    "\n",
    "                # For each prediction vector and label vector, decode it and add it to a list for BLEU scoring\n",
    "                pred_decode = tokenizer.decode(predicted, out_type=str)\n",
    "                reference = tokenizer.decode(target, out_type=str)\n",
    "\n",
    "                samples_processed += 1\n",
    "                \n",
    "                candidates.append(pred_decode.split())\n",
    "                references.append([reference.split()])\n",
    "    \n",
    "    # Compute the corpus-level BLEU score. For the purposes of this project, up to 3-gram comparisons were made\n",
    "    bleu_score = corpus_bleu(references, candidates, weights=(.33, .34, .33, 0), smoothing_function=smoothing_function)\n",
    "    return bleu_score\n",
    "\n",
    "def ask_model(model, tokenizer, name):\n",
    "    while(1):\n",
    "        print(\"Prompt \" + name + \" (type q to quit): \")\n",
    "        prompt = input()\n",
    "        if prompt.lower() == \"q\":\n",
    "            break\n",
    "        else:\n",
    "            print(f\"{name} says: \" + model.prompt(tokenizer, \n",
    "                                               prompt, \n",
    "                                               max_seq_length=MAX_GEN_SEQ_LEN, \n",
    "                                               eos_token_id=2, \n",
    "                                               temperature=TEMPERATURE,\n",
    "                                               device=DEVICE\n",
    "                                              ))\n",
    "\n"
   ]
  },
  {
   "cell_type": "markdown",
   "metadata": {},
   "source": [
    "# Main Code"
   ]
  },
  {
   "cell_type": "markdown",
   "metadata": {},
   "source": [
    "### Tokenizer & Preliminary Vars"
   ]
  },
  {
   "cell_type": "code",
   "execution_count": 4,
   "metadata": {},
   "outputs": [],
   "source": [
    "run_spm = input(\"Train new tokenizer (needed if no .model file in project root)? (y/n): \").lower() == \"y\"\n",
    "if run_spm:\n",
    "    merge_text_files(DATA_DIR, CORPUS_FILE)\n",
    "\n",
    "    spm.SentencePieceTrainer.train(\n",
    "        input=CORPUS_FILE,\n",
    "        model_prefix=TOKENIZER_PREFIX,\n",
    "        vocab_size=VOCAB_SIZE,\n",
    "        bos_id=1, # Not starting at 0 because that is <unk>.\n",
    "        eos_id=2, # The reason we set the ids this way is because we have manually defined new tokens in the training and\n",
    "        pad_id=PAD_TOKEN_ID, # testing data, so we must specify for the tokenizer training what these tokens are.\n",
    "        user_defined_symbols=\",\".join([\"<bos>\", \"<eos>\", \"<pad>\"])\n",
    "    )\n",
    "\n",
    "device = torch.device(DEVICE)\n",
    "tokenizer = load_tokenizer(TOKENIZER_PATH)"
   ]
  },
  {
   "cell_type": "markdown",
   "metadata": {},
   "source": [
    "### RNN"
   ]
  },
  {
   "cell_type": "markdown",
   "metadata": {},
   "source": [
    "#### Training"
   ]
  },
  {
   "cell_type": "code",
   "execution_count": null,
   "metadata": {},
   "outputs": [
    {
     "name": "stderr",
     "output_type": "stream",
     "text": [
      "Epoch 1/30: 100%|██████████| 310/310 [01:27<00:00,  3.56it/s]\n",
      "Epoch 2/30: 100%|██████████| 310/310 [01:23<00:00,  3.72it/s]\n",
      "Epoch 3/30: 100%|██████████| 310/310 [01:25<00:00,  3.61it/s]\n",
      "Epoch 4/30: 100%|██████████| 310/310 [01:51<00:00,  2.78it/s]\n",
      "Epoch 5/30: 100%|██████████| 310/310 [01:38<00:00,  3.15it/s]\n",
      "Epoch 6/30: 100%|██████████| 310/310 [01:26<00:00,  3.56it/s]\n",
      "Epoch 7/30: 100%|██████████| 310/310 [01:27<00:00,  3.55it/s]\n",
      "Epoch 8/30: 100%|██████████| 310/310 [01:27<00:00,  3.54it/s]\n",
      "Epoch 9/30: 100%|██████████| 310/310 [01:27<00:00,  3.56it/s]\n",
      "Epoch 10/30: 100%|██████████| 310/310 [01:26<00:00,  3.59it/s]\n",
      "Epoch 11/30: 100%|██████████| 310/310 [01:28<00:00,  3.49it/s]\n",
      "Epoch 12/30: 100%|██████████| 310/310 [01:27<00:00,  3.55it/s]\n",
      "Epoch 13/30: 100%|██████████| 310/310 [01:40<00:00,  3.10it/s]\n",
      "Epoch 14/30: 100%|██████████| 310/310 [01:27<00:00,  3.54it/s]\n",
      "Epoch 15/30: 100%|██████████| 310/310 [01:26<00:00,  3.56it/s]\n",
      "Epoch 16/30: 100%|██████████| 310/310 [01:27<00:00,  3.56it/s]\n",
      "Epoch 17/30: 100%|██████████| 310/310 [01:28<00:00,  3.50it/s]\n",
      "Epoch 18/30: 100%|██████████| 310/310 [01:28<00:00,  3.51it/s]\n",
      "Epoch 19/30: 100%|██████████| 310/310 [01:26<00:00,  3.57it/s]\n",
      "Epoch 20/30: 100%|██████████| 310/310 [01:27<00:00,  3.55it/s]\n",
      "Epoch 21/30: 100%|██████████| 310/310 [01:27<00:00,  3.54it/s]\n",
      "Epoch 22/30: 100%|██████████| 310/310 [01:29<00:00,  3.48it/s]\n",
      "Epoch 23/30: 100%|██████████| 310/310 [01:27<00:00,  3.55it/s]\n",
      "Epoch 24/30: 100%|██████████| 310/310 [01:26<00:00,  3.58it/s]\n",
      "Epoch 25/30: 100%|██████████| 310/310 [01:28<00:00,  3.50it/s]\n",
      "Epoch 26/30: 100%|██████████| 310/310 [01:29<00:00,  3.46it/s]\n",
      "Epoch 27/30: 100%|██████████| 310/310 [01:28<00:00,  3.51it/s]\n",
      "Epoch 28/30: 100%|██████████| 310/310 [01:28<00:00,  3.50it/s]\n",
      "Epoch 29/30: 100%|██████████| 310/310 [01:28<00:00,  3.50it/s]\n",
      "Epoch 30/30: 100%|██████████| 310/310 [01:28<00:00,  3.52it/s]\n"
     ]
    },
    {
     "name": "stdout",
     "output_type": "stream",
     "text": [
      "Epoch 30: Train Loss=4.4582, Test Loss=4.6843\n",
      "[4, 81, 3116, 6, 208, 9, 7, 6, 6, 6, 9, 7, 395, 292, 10, 7, 153, 6, 9, 42, 29, 117, 12, 6, 8, 7, 8, 16, 42, 29, 78, 964, 6, 118, 36, 14, 7, 0, 1876, 6, 175, 466, 103, 349, 6, 7, 6, 10, 295, 6, 10, 10, 48, 7, 7, 91, 7, 153, 11, 8, 11, 8, 44, 7, 7, 7, 693, 11, 204, 138, 747, 6, 6, 7, 88, 12, 7, 0, 1876, 6, 9, 42, 29, 12, 34, 43, 9, 7, 18, 12, 34, 84, 7, 6, 8, 7, 964, 9, 12, 10, 188, 8, 7, 3600, 11, 9, 18, 34, 34, 7, 7, 75, 6, 6, 72, 146, 6, 7, 7, 7, 0, 1876, 6, 7, 7, 7, 6]\n",
      "[4, 0, 1876, 11, 6, 59, 512, 9967, 11, 6, 2738, 7, 5054, 292, 10, 122, 4061, 22, 16, 99, 29, 102, 17, 1272, 33, 46, 8, 16, 27, 29, 13, 128, 273, 466, 36, 134, 28, 0, 1876, 11, 2262, 226, 1008, 349, 12, 487, 84, 7, 499, 138, 525, 5395, 12, 1313, 120, 9, 122, 1021, 11, 2140, 63, 8, 108, 31, 46, 51, 273, 1371, 204, 138, 747, 11, 1922, 76, 894, 134, 28, 0, 1876, 6, 16, 19, 1881, 12, 8918, 22, 9, 6543, 1803, 12, 342, 109, 49, 808, 25, 13, 2356, 3839, 405, 10, 4225, 9, 1716, 3600, 6, 17, 126, 1137, 4085, 17, 7475, 128, 1600, 8, 3052, 345, 1299, 6, 1287, 28, 0, 1876, 1431, 86, 25, 9967, 14]\n",
      "<bos>Iueen, face and the,,, and the deadion of the own, and have not know to,. the. I have not been single,ced in the ⁇ ueequeg, headlinity, the, of name, of of by the the into the owns.s. The the the the friendssstrance,, the more to the ⁇ ueequeg, and have not to bed and the he to be out the,. the single and to of being. thegors and he be be the the man,, He day, the the the ⁇ ueequeg, the the the,\n",
      "<bos> ⁇ ueequegs, or rather Yojos, touching the selection of our craft; I did not like that plan at all. I had not a little relied upon  ⁇ ueequegs sagacity to point out the whaler best fitted to carry us and our fortunes securely. But as all my remonstrances produced no effect upon  ⁇ ueequeg, I was obliged to acquiesce; and accordingly prepared to set about this business with a determined rushing sort of energy and vigor, that should quickly settle that trifling little affair. Next morning early, leaving  ⁇ ueequeg shut up with Yojo in\n",
      "Model Perplexity: 86.3346 Model BLEU: 0.0224\n"
     ]
    },
    {
     "data": {
      "image/png": "[encoded data removed]",
      "text/plain": [
       "<Figure size 640x480 with 1 Axes>"
      ]
     },
     "metadata": {},
     "output_type": "display_data"
    },
    {
     "data": {
      "text/plain": [
       "([6.685283108680479,\n",
       "  5.933915962711457,\n",
       "  5.3658538510722495,\n",
       "  5.150806153205133,\n",
       "  5.028496219265845,\n",
       "  4.948514289240683,\n",
       "  4.893175781926801,\n",
       "  4.844830223821824,\n",
       "  4.8073778983085385,\n",
       "  4.779558158689929,\n",
       "  4.751704202159758,\n",
       "  4.726996587937878,\n",
       "  4.7050195109459665,\n",
       "  4.686739204775902,\n",
       "  4.674489352010911,\n",
       "  4.682245514469762,\n",
       "  4.65146394852669,\n",
       "  4.631436394106958,\n",
       "  4.623844195950416,\n",
       "  4.605020652278777,\n",
       "  4.592913427660542,\n",
       "  4.584741250930294,\n",
       "  4.573201597890546,\n",
       "  4.564582178669591,\n",
       "  4.560539700908046,\n",
       "  4.492362756113852,\n",
       "  4.476738036063409,\n",
       "  4.4741009189236545,\n",
       "  4.46334506926998,\n",
       "  4.458230450845534],\n",
       " [6.437279719572801,\n",
       "  5.521771186437363,\n",
       "  5.208181320092617,\n",
       "  5.063085256478725,\n",
       "  4.978988849199736,\n",
       "  4.929430069067539,\n",
       "  4.908332635194827,\n",
       "  4.872541189193726,\n",
       "  4.841768784400744,\n",
       "  4.847409456204145,\n",
       "  4.81403861901699,\n",
       "  4.810616591037848,\n",
       "  4.793205285683657,\n",
       "  4.7863067480234,\n",
       "  4.802675925768339,\n",
       "  4.781932023855356,\n",
       "  4.775864387169863,\n",
       "  4.7589550996438055,\n",
       "  4.765594910352658,\n",
       "  4.752437340907561,\n",
       "  4.752096017201741,\n",
       "  4.74427308791723,\n",
       "  4.742437173158694,\n",
       "  4.748047046172313,\n",
       "  4.745815417705438,\n",
       "  4.697316811634944,\n",
       "  4.703889883481539,\n",
       "  4.691181066708687,\n",
       "  4.685518368696555,\n",
       "  4.684266481644068])"
      ]
     },
     "execution_count": 11,
     "metadata": {},
     "output_type": "execute_result"
    }
   ],
   "source": [
    "from Proj2Models import RNNLanguageModel\n",
    "\n",
    "rnn_model = RNNLanguageModel(\n",
    "    vocab_size=VOCAB_SIZE,\n",
    "    embed_dim=EMBED_DIM,\n",
    "    hidden_dim=HIDDEN_DIM,\n",
    "    num_layers=NUM_LAYERS,\n",
    "    dropout=DROPOUT,\n",
    "    pad_token_id=PAD_TOKEN_ID,\n",
    "    top_p=TOP_P,\n",
    "    name=\"RNN\"\n",
    ").to(device)\n",
    "\n",
    "train_model(rnn_model, device, tokenizer, rnn_model.name)"
   ]
  },
  {
   "cell_type": "markdown",
   "metadata": {},
   "source": [
    "#### Prompting"
   ]
  },
  {
   "cell_type": "code",
   "execution_count": 12,
   "metadata": {},
   "outputs": [
    {
     "name": "stdout",
     "output_type": "stream",
     "text": [
      "Prompt RNN (type q to quit): \n",
      "LSTM says: There comes home, passed back against the water, as Mr. She smiling. Sheur for writing. Ass I had the childdy persons with them, down into the fact, to breakfast and of men under the towns to in their\n",
      "Prompt RNN (type q to quit): \n",
      "LSTM says: light of uncovered, entirely have seen; it is not existing care for his hand a house, where people, and then raised the world to retreat behind a soul can settle a supplement of our son! I cannot do you? Nicholas left\n",
      "Prompt RNN (type q to quit): \n"
     ]
    }
   ],
   "source": [
    "ask_model(rnn_model, tokenizer, rnn_model.name)"
   ]
  },
  {
   "cell_type": "markdown",
   "metadata": {},
   "source": [
    "### LSTM"
   ]
  },
  {
   "cell_type": "markdown",
   "metadata": {},
   "source": [
    "#### Training"
   ]
  },
  {
   "cell_type": "code",
   "execution_count": 12,
   "metadata": {},
   "outputs": [
    {
     "name": "stderr",
     "output_type": "stream",
     "text": [
      "Epoch 1/30:   0%|          | 0/310 [00:00<?, ?it/s]\n"
     ]
    },
    {
     "ename": "KeyboardInterrupt",
     "evalue": "",
     "output_type": "error",
     "traceback": [
      "\u001b[1;31m---------------------------------------------------------------------------\u001b[0m",
      "\u001b[1;31mKeyboardInterrupt\u001b[0m                         Traceback (most recent call last)",
      "Cell \u001b[1;32mIn[12], line 14\u001b[0m\n\u001b[0;32m      1\u001b[0m \u001b[38;5;28;01mfrom\u001b[39;00m \u001b[38;5;21;01mProj2Models\u001b[39;00m \u001b[38;5;28;01mimport\u001b[39;00m LSTMLanguageModel\n\u001b[0;32m      3\u001b[0m lstm_model \u001b[38;5;241m=\u001b[39m LSTMLanguageModel(\n\u001b[0;32m      4\u001b[0m     vocab_size\u001b[38;5;241m=\u001b[39mVOCAB_SIZE,\n\u001b[0;32m      5\u001b[0m     embed_dim\u001b[38;5;241m=\u001b[39mEMBED_DIM,\n\u001b[1;32m   (...)\u001b[0m\n\u001b[0;32m     11\u001b[0m     name\u001b[38;5;241m=\u001b[39m\u001b[38;5;124m\"\u001b[39m\u001b[38;5;124mLSTM\u001b[39m\u001b[38;5;124m\"\u001b[39m\n\u001b[0;32m     12\u001b[0m )\u001b[38;5;241m.\u001b[39mto(device)\n\u001b[1;32m---> 14\u001b[0m train_model(lstm_model, device, tokenizer, lstm_model\u001b[38;5;241m.\u001b[39mname)\n",
      "Cell \u001b[1;32mIn[9], line 81\u001b[0m, in \u001b[0;36mtrain_model\u001b[1;34m(model, device, tokenizer, model_type)\u001b[0m\n\u001b[0;32m     78\u001b[0m optimizer\u001b[38;5;241m.\u001b[39mzero_grad()\n\u001b[0;32m     80\u001b[0m \u001b[38;5;66;03m# Getting the probability distributions for the prompts...\u001b[39;00m\n\u001b[1;32m---> 81\u001b[0m logits, _ \u001b[38;5;241m=\u001b[39m model(input_ids)\n\u001b[0;32m     83\u001b[0m \u001b[38;5;250m\u001b[39m\u001b[38;5;124;03m\"\"\"\u001b[39;00m\n\u001b[0;32m     84\u001b[0m \u001b[38;5;124;03mFor understanding this dimension change, understand that the logits are of\u001b[39;00m\n\u001b[0;32m     85\u001b[0m \u001b[38;5;124;03mdimension (B,S,V) (see forward() function of base model for explanantion) and the targets are of\u001b[39;00m\n\u001b[1;32m   (...)\u001b[0m\n\u001b[0;32m     93\u001b[0m \u001b[38;5;124;03mThe .view() function allows us to do this my making the last dimension of each tensor account for each entry.\u001b[39;00m\n\u001b[0;32m     94\u001b[0m \u001b[38;5;124;03m\"\"\"\u001b[39;00m\n\u001b[0;32m     95\u001b[0m loss \u001b[38;5;241m=\u001b[39m criterion(logits\u001b[38;5;241m.\u001b[39mview(\u001b[38;5;241m-\u001b[39m\u001b[38;5;241m1\u001b[39m, vocab_size), target_ids\u001b[38;5;241m.\u001b[39mview(\u001b[38;5;241m-\u001b[39m\u001b[38;5;241m1\u001b[39m))\n",
      "File \u001b[1;32mc:\\Users\\joshm\\miniconda3\\envs\\AI_Foundation_Proj2\\Lib\\site-packages\\torch\\nn\\modules\\module.py:1739\u001b[0m, in \u001b[0;36mModule._wrapped_call_impl\u001b[1;34m(self, *args, **kwargs)\u001b[0m\n\u001b[0;32m   1737\u001b[0m     \u001b[38;5;28;01mreturn\u001b[39;00m \u001b[38;5;28mself\u001b[39m\u001b[38;5;241m.\u001b[39m_compiled_call_impl(\u001b[38;5;241m*\u001b[39margs, \u001b[38;5;241m*\u001b[39m\u001b[38;5;241m*\u001b[39mkwargs)  \u001b[38;5;66;03m# type: ignore[misc]\u001b[39;00m\n\u001b[0;32m   1738\u001b[0m \u001b[38;5;28;01melse\u001b[39;00m:\n\u001b[1;32m-> 1739\u001b[0m     \u001b[38;5;28;01mreturn\u001b[39;00m \u001b[38;5;28mself\u001b[39m\u001b[38;5;241m.\u001b[39m_call_impl(\u001b[38;5;241m*\u001b[39margs, \u001b[38;5;241m*\u001b[39m\u001b[38;5;241m*\u001b[39mkwargs)\n",
      "File \u001b[1;32mc:\\Users\\joshm\\miniconda3\\envs\\AI_Foundation_Proj2\\Lib\\site-packages\\torch\\nn\\modules\\module.py:1750\u001b[0m, in \u001b[0;36mModule._call_impl\u001b[1;34m(self, *args, **kwargs)\u001b[0m\n\u001b[0;32m   1745\u001b[0m \u001b[38;5;66;03m# If we don't have any hooks, we want to skip the rest of the logic in\u001b[39;00m\n\u001b[0;32m   1746\u001b[0m \u001b[38;5;66;03m# this function, and just call forward.\u001b[39;00m\n\u001b[0;32m   1747\u001b[0m \u001b[38;5;28;01mif\u001b[39;00m \u001b[38;5;129;01mnot\u001b[39;00m (\u001b[38;5;28mself\u001b[39m\u001b[38;5;241m.\u001b[39m_backward_hooks \u001b[38;5;129;01mor\u001b[39;00m \u001b[38;5;28mself\u001b[39m\u001b[38;5;241m.\u001b[39m_backward_pre_hooks \u001b[38;5;129;01mor\u001b[39;00m \u001b[38;5;28mself\u001b[39m\u001b[38;5;241m.\u001b[39m_forward_hooks \u001b[38;5;129;01mor\u001b[39;00m \u001b[38;5;28mself\u001b[39m\u001b[38;5;241m.\u001b[39m_forward_pre_hooks\n\u001b[0;32m   1748\u001b[0m         \u001b[38;5;129;01mor\u001b[39;00m _global_backward_pre_hooks \u001b[38;5;129;01mor\u001b[39;00m _global_backward_hooks\n\u001b[0;32m   1749\u001b[0m         \u001b[38;5;129;01mor\u001b[39;00m _global_forward_hooks \u001b[38;5;129;01mor\u001b[39;00m _global_forward_pre_hooks):\n\u001b[1;32m-> 1750\u001b[0m     \u001b[38;5;28;01mreturn\u001b[39;00m forward_call(\u001b[38;5;241m*\u001b[39margs, \u001b[38;5;241m*\u001b[39m\u001b[38;5;241m*\u001b[39mkwargs)\n\u001b[0;32m   1752\u001b[0m result \u001b[38;5;241m=\u001b[39m \u001b[38;5;28;01mNone\u001b[39;00m\n\u001b[0;32m   1753\u001b[0m called_always_called_hooks \u001b[38;5;241m=\u001b[39m \u001b[38;5;28mset\u001b[39m()\n",
      "File \u001b[1;32mc:\\Users\\joshm\\OneDrive\\Desktop\\AI Foundations\\Proj2\\Proj2Models.py:184\u001b[0m, in \u001b[0;36mLSTMLanguageModel.forward\u001b[1;34m(self, input_ids, hidden)\u001b[0m\n\u001b[0;32m    177\u001b[0m \u001b[38;5;250m\u001b[39m\u001b[38;5;124;03m\"\"\" \u001b[39;00m\n\u001b[0;32m    178\u001b[0m \u001b[38;5;124;03mThe LSTM implementation of layer propagation. See the BaseLanguageModel for in depth hyperparameter and output explanation.\u001b[39;00m\n\u001b[0;32m    179\u001b[0m \u001b[38;5;124;03mThe fully connected layer at the end gives us our probability distributions.\u001b[39;00m\n\u001b[0;32m    180\u001b[0m \u001b[38;5;124;03m\"\"\"\u001b[39;00m\n\u001b[0;32m    183\u001b[0m embeds \u001b[38;5;241m=\u001b[39m \u001b[38;5;28mself\u001b[39m\u001b[38;5;241m.\u001b[39membedding(input_ids)\n\u001b[1;32m--> 184\u001b[0m out, hidden \u001b[38;5;241m=\u001b[39m \u001b[38;5;28mself\u001b[39m\u001b[38;5;241m.\u001b[39mlstm(embeds, hidden)\n\u001b[0;32m    185\u001b[0m logits \u001b[38;5;241m=\u001b[39m \u001b[38;5;28mself\u001b[39m\u001b[38;5;241m.\u001b[39mfc(out)\n\u001b[0;32m    186\u001b[0m \u001b[38;5;28;01mreturn\u001b[39;00m logits, hidden\n",
      "File \u001b[1;32mc:\\Users\\joshm\\miniconda3\\envs\\AI_Foundation_Proj2\\Lib\\site-packages\\torch\\nn\\modules\\module.py:1739\u001b[0m, in \u001b[0;36mModule._wrapped_call_impl\u001b[1;34m(self, *args, **kwargs)\u001b[0m\n\u001b[0;32m   1737\u001b[0m     \u001b[38;5;28;01mreturn\u001b[39;00m \u001b[38;5;28mself\u001b[39m\u001b[38;5;241m.\u001b[39m_compiled_call_impl(\u001b[38;5;241m*\u001b[39margs, \u001b[38;5;241m*\u001b[39m\u001b[38;5;241m*\u001b[39mkwargs)  \u001b[38;5;66;03m# type: ignore[misc]\u001b[39;00m\n\u001b[0;32m   1738\u001b[0m \u001b[38;5;28;01melse\u001b[39;00m:\n\u001b[1;32m-> 1739\u001b[0m     \u001b[38;5;28;01mreturn\u001b[39;00m \u001b[38;5;28mself\u001b[39m\u001b[38;5;241m.\u001b[39m_call_impl(\u001b[38;5;241m*\u001b[39margs, \u001b[38;5;241m*\u001b[39m\u001b[38;5;241m*\u001b[39mkwargs)\n",
      "File \u001b[1;32mc:\\Users\\joshm\\miniconda3\\envs\\AI_Foundation_Proj2\\Lib\\site-packages\\torch\\nn\\modules\\module.py:1750\u001b[0m, in \u001b[0;36mModule._call_impl\u001b[1;34m(self, *args, **kwargs)\u001b[0m\n\u001b[0;32m   1745\u001b[0m \u001b[38;5;66;03m# If we don't have any hooks, we want to skip the rest of the logic in\u001b[39;00m\n\u001b[0;32m   1746\u001b[0m \u001b[38;5;66;03m# this function, and just call forward.\u001b[39;00m\n\u001b[0;32m   1747\u001b[0m \u001b[38;5;28;01mif\u001b[39;00m \u001b[38;5;129;01mnot\u001b[39;00m (\u001b[38;5;28mself\u001b[39m\u001b[38;5;241m.\u001b[39m_backward_hooks \u001b[38;5;129;01mor\u001b[39;00m \u001b[38;5;28mself\u001b[39m\u001b[38;5;241m.\u001b[39m_backward_pre_hooks \u001b[38;5;129;01mor\u001b[39;00m \u001b[38;5;28mself\u001b[39m\u001b[38;5;241m.\u001b[39m_forward_hooks \u001b[38;5;129;01mor\u001b[39;00m \u001b[38;5;28mself\u001b[39m\u001b[38;5;241m.\u001b[39m_forward_pre_hooks\n\u001b[0;32m   1748\u001b[0m         \u001b[38;5;129;01mor\u001b[39;00m _global_backward_pre_hooks \u001b[38;5;129;01mor\u001b[39;00m _global_backward_hooks\n\u001b[0;32m   1749\u001b[0m         \u001b[38;5;129;01mor\u001b[39;00m _global_forward_hooks \u001b[38;5;129;01mor\u001b[39;00m _global_forward_pre_hooks):\n\u001b[1;32m-> 1750\u001b[0m     \u001b[38;5;28;01mreturn\u001b[39;00m forward_call(\u001b[38;5;241m*\u001b[39margs, \u001b[38;5;241m*\u001b[39m\u001b[38;5;241m*\u001b[39mkwargs)\n\u001b[0;32m   1752\u001b[0m result \u001b[38;5;241m=\u001b[39m \u001b[38;5;28;01mNone\u001b[39;00m\n\u001b[0;32m   1753\u001b[0m called_always_called_hooks \u001b[38;5;241m=\u001b[39m \u001b[38;5;28mset\u001b[39m()\n",
      "File \u001b[1;32mc:\\Users\\joshm\\miniconda3\\envs\\AI_Foundation_Proj2\\Lib\\site-packages\\torch\\nn\\modules\\rnn.py:1124\u001b[0m, in \u001b[0;36mLSTM.forward\u001b[1;34m(self, input, hx)\u001b[0m\n\u001b[0;32m   1121\u001b[0m         hx \u001b[38;5;241m=\u001b[39m \u001b[38;5;28mself\u001b[39m\u001b[38;5;241m.\u001b[39mpermute_hidden(hx, sorted_indices)\n\u001b[0;32m   1123\u001b[0m \u001b[38;5;28;01mif\u001b[39;00m batch_sizes \u001b[38;5;129;01mis\u001b[39;00m \u001b[38;5;28;01mNone\u001b[39;00m:\n\u001b[1;32m-> 1124\u001b[0m     result \u001b[38;5;241m=\u001b[39m _VF\u001b[38;5;241m.\u001b[39mlstm(\n\u001b[0;32m   1125\u001b[0m         \u001b[38;5;28minput\u001b[39m,\n\u001b[0;32m   1126\u001b[0m         hx,\n\u001b[0;32m   1127\u001b[0m         \u001b[38;5;28mself\u001b[39m\u001b[38;5;241m.\u001b[39m_flat_weights,  \u001b[38;5;66;03m# type: ignore[arg-type]\u001b[39;00m\n\u001b[0;32m   1128\u001b[0m         \u001b[38;5;28mself\u001b[39m\u001b[38;5;241m.\u001b[39mbias,\n\u001b[0;32m   1129\u001b[0m         \u001b[38;5;28mself\u001b[39m\u001b[38;5;241m.\u001b[39mnum_layers,\n\u001b[0;32m   1130\u001b[0m         \u001b[38;5;28mself\u001b[39m\u001b[38;5;241m.\u001b[39mdropout,\n\u001b[0;32m   1131\u001b[0m         \u001b[38;5;28mself\u001b[39m\u001b[38;5;241m.\u001b[39mtraining,\n\u001b[0;32m   1132\u001b[0m         \u001b[38;5;28mself\u001b[39m\u001b[38;5;241m.\u001b[39mbidirectional,\n\u001b[0;32m   1133\u001b[0m         \u001b[38;5;28mself\u001b[39m\u001b[38;5;241m.\u001b[39mbatch_first,\n\u001b[0;32m   1134\u001b[0m     )\n\u001b[0;32m   1135\u001b[0m \u001b[38;5;28;01melse\u001b[39;00m:\n\u001b[0;32m   1136\u001b[0m     result \u001b[38;5;241m=\u001b[39m _VF\u001b[38;5;241m.\u001b[39mlstm(\n\u001b[0;32m   1137\u001b[0m         \u001b[38;5;28minput\u001b[39m,\n\u001b[0;32m   1138\u001b[0m         batch_sizes,\n\u001b[1;32m   (...)\u001b[0m\n\u001b[0;32m   1145\u001b[0m         \u001b[38;5;28mself\u001b[39m\u001b[38;5;241m.\u001b[39mbidirectional,\n\u001b[0;32m   1146\u001b[0m     )\n",
      "\u001b[1;31mKeyboardInterrupt\u001b[0m: "
     ]
    }
   ],
   "source": [
    "from Proj2Models import LSTMLanguageModel\n",
    "\n",
    "lstm_model = LSTMLanguageModel(\n",
    "    vocab_size=VOCAB_SIZE,\n",
    "    embed_dim=EMBED_DIM,\n",
    "    hidden_dim=HIDDEN_DIM,\n",
    "    num_layers=NUM_LAYERS,\n",
    "    dropout=DROPOUT,\n",
    "    pad_token_id=PAD_TOKEN_ID,\n",
    "    top_p=TOP_P,\n",
    "    name=\"LSTM\"\n",
    ").to(device)\n",
    "\n",
    "train_model(lstm_model, device, tokenizer, lstm_model.name)"
   ]
  },
  {
   "cell_type": "markdown",
   "metadata": {},
   "source": [
    "#### Prompting"
   ]
  },
  {
   "cell_type": "code",
   "execution_count": 12,
   "metadata": {},
   "outputs": [
    {
     "name": "stdout",
     "output_type": "stream",
     "text": [
      "Prompt LSTM (type q to quit): \n",
      "LSTM says: No citizens have suddenly in succession of That his head, the moral emotion?that I love me; no other streets all the mother, through her eye for certain social studies. The dead. Marquis, abruptly, for Ro. Marius, perhaps.\n",
      "Prompt LSTM (type q to quit): \n",
      "LSTM says: strange feasts up in no relief in a day.Ficy. Prraw band; I observe the same classes of your acquaintance, it. I saw a wind which my bosom, certainly indeed, from his pictures among the iron is most\n",
      "Prompt LSTM (type q to quit): \n"
     ]
    }
   ],
   "source": [
    "ask_model(lstm_model, tokenizer, lstm_model.name)"
   ]
  },
  {
   "cell_type": "markdown",
   "metadata": {},
   "source": [
    "### Transformer"
   ]
  },
  {
   "cell_type": "markdown",
   "metadata": {},
   "source": [
    "#### Training"
   ]
  },
  {
   "cell_type": "code",
   "execution_count": 6,
   "metadata": {},
   "outputs": [
    {
     "ename": "KeyboardInterrupt",
     "evalue": "",
     "output_type": "error",
     "traceback": [
      "\u001b[1;31m---------------------------------------------------------------------------\u001b[0m",
      "\u001b[1;31mKeyboardInterrupt\u001b[0m                         Traceback (most recent call last)",
      "Cell \u001b[1;32mIn[6], line 15\u001b[0m\n\u001b[0;32m      1\u001b[0m \u001b[38;5;28;01mfrom\u001b[39;00m \u001b[38;5;21;01mProj2Models\u001b[39;00m \u001b[38;5;28;01mimport\u001b[39;00m TransformerLanguageModel\n\u001b[0;32m      3\u001b[0m transformer_model \u001b[38;5;241m=\u001b[39m TransformerLanguageModel(\n\u001b[0;32m      4\u001b[0m     vocab_size\u001b[38;5;241m=\u001b[39mVOCAB_SIZE,\n\u001b[0;32m      5\u001b[0m     embed_dim\u001b[38;5;241m=\u001b[39mEMBED_DIM,\n\u001b[1;32m   (...)\u001b[0m\n\u001b[0;32m     12\u001b[0m     name\u001b[38;5;241m=\u001b[39m\u001b[38;5;124m\"\u001b[39m\u001b[38;5;124mTransformer\u001b[39m\u001b[38;5;124m\"\u001b[39m\n\u001b[0;32m     13\u001b[0m )\u001b[38;5;241m.\u001b[39mto(device)\n\u001b[1;32m---> 15\u001b[0m train_model(transformer_model, device, tokenizer, transformer_model\u001b[38;5;241m.\u001b[39mname)\n",
      "Cell \u001b[1;32mIn[3], line 48\u001b[0m, in \u001b[0;36mtrain_model\u001b[1;34m(model, device, tokenizer, model_type)\u001b[0m\n\u001b[0;32m     45\u001b[0m vocab_size \u001b[38;5;241m=\u001b[39m tokenizer\u001b[38;5;241m.\u001b[39mget_piece_size()\n\u001b[0;32m     47\u001b[0m \u001b[38;5;66;03m# Set up datasets from the given jsonl files for training\u001b[39;00m\n\u001b[1;32m---> 48\u001b[0m train_data \u001b[38;5;241m=\u001b[39m TextDataset(TRAIN_FILE, tokenizer, MAX_TRAIN_SEQ_LEN)\n\u001b[0;32m     49\u001b[0m test_data \u001b[38;5;241m=\u001b[39m TextDataset(TEST_FILE, tokenizer, MAX_TRAIN_SEQ_LEN)\n\u001b[0;32m     51\u001b[0m \u001b[38;5;66;03m# Using pytorch DataLoaders for easy batching, shuffling, etc.\u001b[39;00m\n",
      "File \u001b[1;32mc:\\Users\\joshm\\OneDrive\\Desktop\\AI Foundations\\Proj2\\Proj2Helper.py:48\u001b[0m, in \u001b[0;36mTextDataset.__init__\u001b[1;34m(self, filepath, tokenizer, max_seq_len)\u001b[0m\n\u001b[0;32m     45\u001b[0m \u001b[38;5;66;03m# With the provided jsonl files from the handout...\u001b[39;00m\n\u001b[0;32m     46\u001b[0m \u001b[38;5;28;01mwith\u001b[39;00m \u001b[38;5;28mopen\u001b[39m(filepath, \u001b[38;5;124m\"\u001b[39m\u001b[38;5;124mr\u001b[39m\u001b[38;5;124m\"\u001b[39m, encoding\u001b[38;5;241m=\u001b[39m\u001b[38;5;124m\"\u001b[39m\u001b[38;5;124mutf-8\u001b[39m\u001b[38;5;124m\"\u001b[39m) \u001b[38;5;28;01mas\u001b[39;00m file:\n\u001b[0;32m     47\u001b[0m     \u001b[38;5;66;03m# Line by line (with each line being a prompt/completion pair)...\u001b[39;00m\n\u001b[1;32m---> 48\u001b[0m     \u001b[38;5;28;01mfor\u001b[39;00m line \u001b[38;5;129;01min\u001b[39;00m file:\n\u001b[0;32m     49\u001b[0m         item \u001b[38;5;241m=\u001b[39m json\u001b[38;5;241m.\u001b[39mloads(line)\n\u001b[0;32m     50\u001b[0m         \u001b[38;5;66;03m# Take the whole line and put it into one string variable\u001b[39;00m\n",
      "File \u001b[1;32m<frozen codecs>:319\u001b[0m, in \u001b[0;36mdecode\u001b[1;34m(self, input, final)\u001b[0m\n",
      "\u001b[1;31mKeyboardInterrupt\u001b[0m: "
     ]
    }
   ],
   "source": [
    "from Proj2Models import TransformerLanguageModel\n",
    "\n",
    "transformer_model = TransformerLanguageModel(\n",
    "    vocab_size=VOCAB_SIZE,\n",
    "    embed_dim=EMBED_DIM,\n",
    "    hidden_dim=HIDDEN_DIM,\n",
    "    num_layers=NUM_LAYERS,\n",
    "    n_heads=N_HEADS,\n",
    "    dropout=DROPOUT,\n",
    "    pad_token_id=PAD_TOKEN_ID,\n",
    "    top_p=TOP_P,\n",
    "    name=\"Transformer\"\n",
    ").to(device)\n",
    "\n",
    "train_model(transformer_model, device, tokenizer, transformer_model.name)"
   ]
  },
  {
   "cell_type": "markdown",
   "metadata": {},
   "source": [
    "#### Prompting"
   ]
  },
  {
   "cell_type": "code",
   "execution_count": 14,
   "metadata": {},
   "outputs": [
    {
     "name": "stdout",
     "output_type": "stream",
     "text": [
      "Prompt Transformer (type q to quit): \n",
      "LSTM says: It was how they went on the sailors; but never any revs may have once adofor Suply, he took the unfortunate servant, and saw. What? he said, and to the lock my guide us have had merely unusual\n",
      "Prompt Transformer (type q to quit): \n",
      "LSTM says: livid sky. And thy soul will not that could resist. Yes. It made a man whose personal actions so surprised himself a quarter to admit; I know that our return from Daisy. Well? asked Monte Cristo were falling at least to carry to show\n",
      "Prompt Transformer (type q to quit): \n"
     ]
    }
   ],
   "source": [
    "ask_model(transformer_model, tokenizer, transformer_model.name)"
   ]
  }
 ],
 "metadata": {
  "kernelspec": {
   "display_name": "Python 3",
   "language": "python",
   "name": "python3"
  },
  "language_info": {
   "codemirror_mode": {
    "name": "ipython",
    "version": 3
   },
   "file_extension": ".py",
   "mimetype": "text/x-python",
   "name": "python",
   "nbconvert_exporter": "python",
   "pygments_lexer": "ipython3",
   "version": "3.12.9"
  }
 },
 "nbformat": 4,
 "nbformat_minor": 2
}
